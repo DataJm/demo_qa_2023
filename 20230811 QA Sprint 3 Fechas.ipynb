{
 "cells": [
  {
   "cell_type": "markdown",
   "id": "6f2262df",
   "metadata": {},
   "source": [
    "# Titulo\n",
    "\n",
    "- item1\n",
    "- item2"
   ]
  },
  {
   "cell_type": "code",
   "execution_count": 1,
   "id": "72836890",
   "metadata": {
    "collapsed": true
   },
   "outputs": [],
   "source": [
    "import pandas as pd"
   ]
  },
  {
   "cell_type": "code",
   "execution_count": 3,
   "id": "36bee085",
   "metadata": {
    "collapsed": true
   },
   "outputs": [
    {
     "data": {
      "text/html": [
       "<div>\n",
       "<style scoped>\n",
       "    .dataframe tbody tr th:only-of-type {\n",
       "        vertical-align: middle;\n",
       "    }\n",
       "\n",
       "    .dataframe tbody tr th {\n",
       "        vertical-align: top;\n",
       "    }\n",
       "\n",
       "    .dataframe thead th {\n",
       "        text-align: right;\n",
       "    }\n",
       "</style>\n",
       "<table border=\"1\" class=\"dataframe\">\n",
       "  <thead>\n",
       "    <tr style=\"text-align: right;\">\n",
       "      <th></th>\n",
       "      <th>date_time</th>\n",
       "      <th>id</th>\n",
       "      <th>time_spent</th>\n",
       "      <th>name</th>\n",
       "    </tr>\n",
       "  </thead>\n",
       "  <tbody>\n",
       "    <tr>\n",
       "      <th>0</th>\n",
       "      <td>20180407T025358</td>\n",
       "      <td>76144fb2</td>\n",
       "      <td>98.0</td>\n",
       "      <td>Cornflower</td>\n",
       "    </tr>\n",
       "    <tr>\n",
       "      <th>1</th>\n",
       "      <td>20180405T033913</td>\n",
       "      <td>76144fb2</td>\n",
       "      <td>15.0</td>\n",
       "      <td>Cornflower</td>\n",
       "    </tr>\n",
       "    <tr>\n",
       "      <th>2</th>\n",
       "      <td>20180404T032824</td>\n",
       "      <td>76144fb2</td>\n",
       "      <td>220.0</td>\n",
       "      <td>Cornflower</td>\n",
       "    </tr>\n",
       "    <tr>\n",
       "      <th>3</th>\n",
       "      <td>20180407T170441</td>\n",
       "      <td>76144fb2</td>\n",
       "      <td>19.0</td>\n",
       "      <td>Cornflower</td>\n",
       "    </tr>\n",
       "    <tr>\n",
       "      <th>4</th>\n",
       "      <td>20180404T232049</td>\n",
       "      <td>76144fb2</td>\n",
       "      <td>14.0</td>\n",
       "      <td>Cornflower</td>\n",
       "    </tr>\n",
       "  </tbody>\n",
       "</table>\n",
       "</div>"
      ],
      "text/plain": [
       "         date_time        id  time_spent        name\n",
       "0  20180407T025358  76144fb2        98.0  Cornflower\n",
       "1  20180405T033913  76144fb2        15.0  Cornflower\n",
       "2  20180404T032824  76144fb2       220.0  Cornflower\n",
       "3  20180407T170441  76144fb2        19.0  Cornflower\n",
       "4  20180404T232049  76144fb2        14.0  Cornflower"
      ]
     },
     "execution_count": 3,
     "metadata": {},
     "output_type": "execute_result"
    }
   ],
   "source": [
    "data = pd.read_csv('https://practicum-content.s3.us-west-1.amazonaws.com/datasets/visits_eng.csv', sep='\\t')\n",
    "data.head()"
   ]
  },
  {
   "cell_type": "code",
   "execution_count": 7,
   "id": "9f903209",
   "metadata": {
    "collapsed": true
   },
   "outputs": [
    {
     "name": "stdout",
     "output_type": "stream",
     "text": [
      "<class 'pandas.core.frame.DataFrame'>\n",
      "RangeIndex: 4 entries, 0 to 3\n",
      "Data columns (total 3 columns):\n",
      " #   Column  Non-Null Count  Dtype \n",
      "---  ------  --------------  ----- \n",
      " 0   id      4 non-null      int64 \n",
      " 1   nombre  4 non-null      object\n",
      " 2   cosas   4 non-null      object\n",
      "dtypes: int64(1), object(2)\n",
      "memory usage: 224.0+ bytes\n"
     ]
    }
   ],
   "source": [
    "pd.DataFrame({\n",
    "    'id': [1,2,3,4],\n",
    "    'nombre': ['jose','ricardo','lorenzo','gaston'],\n",
    "    'cosas':[1,'a',[12,32],{'a':2}]\n",
    "}).info()"
   ]
  },
  {
   "cell_type": "code",
   "execution_count": 4,
   "id": "4aa6f943",
   "metadata": {
    "collapsed": true
   },
   "outputs": [
    {
     "name": "stdout",
     "output_type": "stream",
     "text": [
      "<class 'pandas.core.frame.DataFrame'>\n",
      "RangeIndex: 317104 entries, 0 to 317103\n",
      "Data columns (total 4 columns):\n",
      " #   Column      Non-Null Count   Dtype  \n",
      "---  ------      --------------   -----  \n",
      " 0   date_time   317104 non-null  object \n",
      " 1   id          317104 non-null  object \n",
      " 2   time_spent  317104 non-null  float64\n",
      " 3   name        317104 non-null  object \n",
      "dtypes: float64(1), object(3)\n",
      "memory usage: 9.7+ MB\n"
     ]
    }
   ],
   "source": [
    "data.info()"
   ]
  },
  {
   "cell_type": "code",
   "execution_count": 9,
   "id": "af1c8107",
   "metadata": {
    "collapsed": true
   },
   "outputs": [
    {
     "data": {
      "text/plain": [
       "0         20180407T025358\n",
       "1         20180405T033913\n",
       "2         20180404T032824\n",
       "3         20180407T170441\n",
       "4         20180404T232049\n",
       "               ...       \n",
       "317099    20180408T153133\n",
       "317100    20180403T121353\n",
       "317101    20180408T162636\n",
       "317102    20180406T092425\n",
       "317103    20180406T054238\n",
       "Name: date_time, Length: 317104, dtype: object"
      ]
     },
     "execution_count": 9,
     "metadata": {},
     "output_type": "execute_result"
    }
   ],
   "source": [
    "data['date_time']"
   ]
  },
  {
   "cell_type": "code",
   "execution_count": 15,
   "id": "351cc26b",
   "metadata": {},
   "outputs": [],
   "source": [
    "data['date_time'] = pd.to_datetime(data['date_time'], format='%Y%m%dT%H%M%S')"
   ]
  },
  {
   "cell_type": "code",
   "execution_count": 19,
   "id": "bcea4c03",
   "metadata": {
    "collapsed": true
   },
   "outputs": [
    {
     "data": {
      "text/plain": [
       "0         CORNFLOWER\n",
       "1         CORNFLOWER\n",
       "2         CORNFLOWER\n",
       "3         CORNFLOWER\n",
       "4         CORNFLOWER\n",
       "             ...    \n",
       "317099        GEYHER\n",
       "317100        GEYHER\n",
       "317101        GEYHER\n",
       "317102        GEYHER\n",
       "317103        GEYHER\n",
       "Name: name, Length: 317104, dtype: object"
      ]
     },
     "execution_count": 19,
     "metadata": {},
     "output_type": "execute_result"
    }
   ],
   "source": [
    "data['name'].str.upper()"
   ]
  },
  {
   "cell_type": "code",
   "execution_count": 22,
   "id": "d570df09",
   "metadata": {
    "collapsed": true
   },
   "outputs": [
    {
     "data": {
      "text/html": [
       "<div>\n",
       "<style scoped>\n",
       "    .dataframe tbody tr th:only-of-type {\n",
       "        vertical-align: middle;\n",
       "    }\n",
       "\n",
       "    .dataframe tbody tr th {\n",
       "        vertical-align: top;\n",
       "    }\n",
       "\n",
       "    .dataframe thead th {\n",
       "        text-align: right;\n",
       "    }\n",
       "</style>\n",
       "<table border=\"1\" class=\"dataframe\">\n",
       "  <thead>\n",
       "    <tr style=\"text-align: right;\">\n",
       "      <th></th>\n",
       "      <th>date_time</th>\n",
       "      <th>id</th>\n",
       "      <th>time_spent</th>\n",
       "      <th>name</th>\n",
       "      <th>year</th>\n",
       "    </tr>\n",
       "  </thead>\n",
       "  <tbody>\n",
       "    <tr>\n",
       "      <th>0</th>\n",
       "      <td>2018-04-07 02:53:58</td>\n",
       "      <td>76144fb2</td>\n",
       "      <td>98.0</td>\n",
       "      <td>Cornflower</td>\n",
       "      <td>2018</td>\n",
       "    </tr>\n",
       "    <tr>\n",
       "      <th>1</th>\n",
       "      <td>2018-04-05 03:39:13</td>\n",
       "      <td>76144fb2</td>\n",
       "      <td>15.0</td>\n",
       "      <td>Cornflower</td>\n",
       "      <td>2018</td>\n",
       "    </tr>\n",
       "    <tr>\n",
       "      <th>2</th>\n",
       "      <td>2018-04-04 03:28:24</td>\n",
       "      <td>76144fb2</td>\n",
       "      <td>220.0</td>\n",
       "      <td>Cornflower</td>\n",
       "      <td>2018</td>\n",
       "    </tr>\n",
       "    <tr>\n",
       "      <th>3</th>\n",
       "      <td>2018-04-07 17:04:41</td>\n",
       "      <td>76144fb2</td>\n",
       "      <td>19.0</td>\n",
       "      <td>Cornflower</td>\n",
       "      <td>2018</td>\n",
       "    </tr>\n",
       "    <tr>\n",
       "      <th>4</th>\n",
       "      <td>2018-04-04 23:20:49</td>\n",
       "      <td>76144fb2</td>\n",
       "      <td>14.0</td>\n",
       "      <td>Cornflower</td>\n",
       "      <td>2018</td>\n",
       "    </tr>\n",
       "    <tr>\n",
       "      <th>...</th>\n",
       "      <td>...</td>\n",
       "      <td>...</td>\n",
       "      <td>...</td>\n",
       "      <td>...</td>\n",
       "      <td>...</td>\n",
       "    </tr>\n",
       "    <tr>\n",
       "      <th>317099</th>\n",
       "      <td>2018-04-08 15:31:33</td>\n",
       "      <td>9cdb5039</td>\n",
       "      <td>11.0</td>\n",
       "      <td>Geyher</td>\n",
       "      <td>2018</td>\n",
       "    </tr>\n",
       "    <tr>\n",
       "      <th>317100</th>\n",
       "      <td>2018-04-03 12:13:53</td>\n",
       "      <td>9cdb5039</td>\n",
       "      <td>181.0</td>\n",
       "      <td>Geyher</td>\n",
       "      <td>2018</td>\n",
       "    </tr>\n",
       "    <tr>\n",
       "      <th>317101</th>\n",
       "      <td>2018-04-08 16:26:36</td>\n",
       "      <td>9cdb5039</td>\n",
       "      <td>252.0</td>\n",
       "      <td>Geyher</td>\n",
       "      <td>2018</td>\n",
       "    </tr>\n",
       "    <tr>\n",
       "      <th>317102</th>\n",
       "      <td>2018-04-06 09:24:25</td>\n",
       "      <td>9cdb5039</td>\n",
       "      <td>29.0</td>\n",
       "      <td>Geyher</td>\n",
       "      <td>2018</td>\n",
       "    </tr>\n",
       "    <tr>\n",
       "      <th>317103</th>\n",
       "      <td>2018-04-06 05:42:38</td>\n",
       "      <td>9cdb5039</td>\n",
       "      <td>20.0</td>\n",
       "      <td>Geyher</td>\n",
       "      <td>2018</td>\n",
       "    </tr>\n",
       "  </tbody>\n",
       "</table>\n",
       "<p>317104 rows × 5 columns</p>\n",
       "</div>"
      ],
      "text/plain": [
       "                 date_time        id  time_spent        name  year\n",
       "0      2018-04-07 02:53:58  76144fb2        98.0  Cornflower  2018\n",
       "1      2018-04-05 03:39:13  76144fb2        15.0  Cornflower  2018\n",
       "2      2018-04-04 03:28:24  76144fb2       220.0  Cornflower  2018\n",
       "3      2018-04-07 17:04:41  76144fb2        19.0  Cornflower  2018\n",
       "4      2018-04-04 23:20:49  76144fb2        14.0  Cornflower  2018\n",
       "...                    ...       ...         ...         ...   ...\n",
       "317099 2018-04-08 15:31:33  9cdb5039        11.0      Geyher  2018\n",
       "317100 2018-04-03 12:13:53  9cdb5039       181.0      Geyher  2018\n",
       "317101 2018-04-08 16:26:36  9cdb5039       252.0      Geyher  2018\n",
       "317102 2018-04-06 09:24:25  9cdb5039        29.0      Geyher  2018\n",
       "317103 2018-04-06 05:42:38  9cdb5039        20.0      Geyher  2018\n",
       "\n",
       "[317104 rows x 5 columns]"
      ]
     },
     "execution_count": 22,
     "metadata": {},
     "output_type": "execute_result"
    }
   ],
   "source": [
    "data['year'] = data['date_time'].dt.year\n",
    "data"
   ]
  },
  {
   "cell_type": "code",
   "execution_count": 24,
   "id": "aee75f25",
   "metadata": {
    "scrolled": true
   },
   "outputs": [
    {
     "name": "stderr",
     "output_type": "stream",
     "text": [
      "C:\\Users\\manyv\\AppData\\Local\\Temp\\ipykernel_24272\\2238337016.py:1: FutureWarning: Treating datetime data as categorical rather than numeric in `.describe` is deprecated and will be removed in a future version of pandas. Specify `datetime_is_numeric=True` to silence this warning and adopt the future behavior now.\n",
      "  data['date_time'].describe()\n"
     ]
    },
    {
     "data": {
      "text/plain": [
       "count                  317104\n",
       "unique                 236674\n",
       "top       2018-04-07 22:06:48\n",
       "freq                        7\n",
       "first     2018-04-02 10:00:08\n",
       "last      2018-04-09 10:00:09\n",
       "Name: date_time, dtype: object"
      ]
     },
     "execution_count": 24,
     "metadata": {},
     "output_type": "execute_result"
    }
   ],
   "source": [
    "data['date_time'].describe()"
   ]
  },
  {
   "cell_type": "code",
   "execution_count": 25,
   "id": "cf922d10",
   "metadata": {},
   "outputs": [
    {
     "data": {
      "text/plain": [
       "Timestamp('2018-04-02 10:00:08')"
      ]
     },
     "execution_count": 25,
     "metadata": {},
     "output_type": "execute_result"
    }
   ],
   "source": [
    "data['date_time'].min()"
   ]
  },
  {
   "cell_type": "code",
   "execution_count": 26,
   "id": "1af6975d",
   "metadata": {},
   "outputs": [
    {
     "data": {
      "text/plain": [
       "Timestamp('2018-04-09 10:00:09')"
      ]
     },
     "execution_count": 26,
     "metadata": {},
     "output_type": "execute_result"
    }
   ],
   "source": [
    "data['date_time'].max()"
   ]
  },
  {
   "cell_type": "code",
   "execution_count": 30,
   "id": "e03d9ee7",
   "metadata": {},
   "outputs": [
    {
     "data": {
      "text/plain": [
       "0        2018-04-07 02:53:58\n",
       "1        2018-04-05 03:39:13\n",
       "2        2018-04-04 03:28:24\n",
       "3        2018-04-07 17:04:41\n",
       "4        2018-04-04 23:20:49\n",
       "                 ...        \n",
       "317099   2018-04-08 15:31:33\n",
       "317100   2018-04-03 12:13:53\n",
       "317101   2018-04-08 16:26:36\n",
       "317102   2018-04-06 09:24:25\n",
       "317103   2018-04-06 05:42:38\n",
       "Name: date_time, Length: 317104, dtype: datetime64[ns]"
      ]
     },
     "execution_count": 30,
     "metadata": {},
     "output_type": "execute_result"
    }
   ],
   "source": [
    "data['date_time']"
   ]
  },
  {
   "cell_type": "code",
   "execution_count": 32,
   "id": "200353ee",
   "metadata": {},
   "outputs": [
    {
     "data": {
      "text/plain": [
       "0        2018-04-07 02:53:58\n",
       "1        2018-04-05 03:39:13\n",
       "2        2018-04-04 03:28:24\n",
       "3        2018-04-07 17:04:41\n",
       "4        2018-04-04 23:20:49\n",
       "                 ...        \n",
       "317099   2018-04-08 15:31:33\n",
       "317100   2018-04-03 12:13:53\n",
       "317101   2018-04-08 16:26:36\n",
       "317102   2018-04-06 09:24:25\n",
       "317103   2018-04-06 05:42:38\n",
       "Name: date_time, Length: 317104, dtype: datetime64[ns]"
      ]
     },
     "execution_count": 32,
     "metadata": {},
     "output_type": "execute_result"
    }
   ],
   "source": [
    "data['date_time']"
   ]
  },
  {
   "cell_type": "code",
   "execution_count": 39,
   "id": "64717e4d",
   "metadata": {},
   "outputs": [
    {
     "data": {
      "text/plain": [
       "0        2018-03-23 02:53:58\n",
       "1        2018-03-21 03:39:13\n",
       "2        2018-03-20 03:28:24\n",
       "3        2018-03-23 17:04:41\n",
       "4        2018-03-20 23:20:49\n",
       "                 ...        \n",
       "317099   2018-03-24 15:31:33\n",
       "317100   2018-03-19 12:13:53\n",
       "317101   2018-03-24 16:26:36\n",
       "317102   2018-03-22 09:24:25\n",
       "317103   2018-03-22 05:42:38\n",
       "Name: date_time, Length: 317104, dtype: datetime64[ns]"
      ]
     },
     "execution_count": 39,
     "metadata": {},
     "output_type": "execute_result"
    }
   ],
   "source": [
    "data['date_time'] - pd.Timedelta(days=15)"
   ]
  },
  {
   "cell_type": "code",
   "execution_count": 40,
   "id": "6bb5279a",
   "metadata": {},
   "outputs": [
    {
     "name": "stdout",
     "output_type": "stream",
     "text": [
      "Fecha actual: 2023-07-27 00:00:00\n",
      "Fecha anterior: 2022-07-27 00:00:00\n"
     ]
    }
   ],
   "source": [
    "from datetime import datetime, timedelta\n",
    "\n",
    "# Crear un objeto datetime\n",
    "fecha_actual = datetime(2023, 7, 27)\n",
    "\n",
    "# Restar un año\n",
    "fecha_anterior = fecha_actual - timedelta(days=365)\n",
    "\n",
    "print(\"Fecha actual:\", fecha_actual)\n",
    "print(\"Fecha anterior:\", fecha_anterior)"
   ]
  }
 ],
 "metadata": {
  "kernelspec": {
   "display_name": "Python 3 (ipykernel)",
   "language": "python",
   "name": "python3"
  },
  "language_info": {
   "codemirror_mode": {
    "name": "ipython",
    "version": 3
   },
   "file_extension": ".py",
   "mimetype": "text/x-python",
   "name": "python",
   "nbconvert_exporter": "python",
   "pygments_lexer": "ipython3",
   "version": "3.8.8"
  }
 },
 "nbformat": 4,
 "nbformat_minor": 5
}
